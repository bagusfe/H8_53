{
 "cells": [
  {
   "cell_type": "markdown",
   "metadata": {},
   "source": [
    "# Function, Module, and Package\n",
    "## Heading 2\n",
    "### Heading 3\n",
    "#### Heading 4\n",
    "##### Heading 5\n",
    "\n",
    "__bold__, **bold**, teks biasa\n",
    "\n",
    "_italic_, *italic*, teks biasa\n",
    "\n",
    "$\\pi + 0.27$\n",
    "\n",
    "$x^{10}$\n",
    "\n",
    "![logo-hacktiv8](https://pbs.twimg.com/profile_images/1303645505465974785/BAedfmOT.jpg)"
   ]
  },
  {
   "cell_type": "code",
   "execution_count": 1,
   "metadata": {},
   "outputs": [
    {
     "name": "stdout",
     "output_type": "stream",
     "text": [
      "bootcamp name: hacktiv8\n",
      "list names: ['john', 'star', 'lucifer', 'python']\n",
      "list of students with id:\n",
      "{1: 'john', 2: 'star', 3: 'lucifer', 4: 'python'}\n"
     ]
    }
   ],
   "source": [
    "# import students\n",
    "from students import make_students, id_to_students\n",
    "from students import bootcamp_name as bootcamp\n",
    "from hacktivate.students import make_students\n",
    "from hacktivate import students  # sama kayak -> import students"
   ]
  },
  {
   "cell_type": "code",
   "execution_count": 2,
   "metadata": {},
   "outputs": [],
   "source": [
    "def calculate_area(p, l):\n",
    "    area = p * l\n",
    "    return area\n",
    "\n",
    "\n",
    "def calculate_volume(p, l, t):\n",
    "    volume = p * l * t\n",
    "    return volume\n",
    "\n",
    "\n",
    "def print_volume(x, y, z):\n",
    "    volume = x * y * z\n",
    "    print(volume)\n",
    "\n",
    "\n",
    "def new_print(obj, prefix=\"from h8: \"):\n",
    "    return str(prefix) + str(obj)"
   ]
  },
  {
   "cell_type": "code",
   "execution_count": 3,
   "metadata": {},
   "outputs": [],
   "source": [
    "x = 100\n",
    "y = 10"
   ]
  },
  {
   "cell_type": "code",
   "execution_count": 4,
   "metadata": {},
   "outputs": [
    {
     "data": {
      "text/plain": [
       "1000"
      ]
     },
     "execution_count": 4,
     "metadata": {},
     "output_type": "execute_result"
    }
   ],
   "source": [
    "calculate_area(x, y)\n",
    "calculate_area(l=x, p=y)"
   ]
  },
  {
   "cell_type": "code",
   "execution_count": 5,
   "metadata": {},
   "outputs": [
    {
     "data": {
      "text/plain": [
       "30"
      ]
     },
     "execution_count": 5,
     "metadata": {},
     "output_type": "execute_result"
    }
   ],
   "source": [
    "calculate_volume(1, 10, 3)\n",
    "calculate_volume(l=10, t=3, p=1)\n",
    "calculate_volume(1, 10, t=3)\n",
    "# calculate_volume(1, p=10, 3)"
   ]
  },
  {
   "cell_type": "code",
   "execution_count": 6,
   "metadata": {},
   "outputs": [
    {
     "name": "stdout",
     "output_type": "stream",
     "text": [
      "100\n"
     ]
    }
   ],
   "source": [
    "print(100)"
   ]
  },
  {
   "cell_type": "code",
   "execution_count": 7,
   "metadata": {},
   "outputs": [
    {
     "data": {
      "text/plain": [
       "100"
      ]
     },
     "execution_count": 7,
     "metadata": {},
     "output_type": "execute_result"
    }
   ],
   "source": [
    "100"
   ]
  },
  {
   "cell_type": "code",
   "execution_count": 8,
   "metadata": {},
   "outputs": [
    {
     "name": "stdout",
     "output_type": "stream",
     "text": [
      "60 <class 'int'>\n"
     ]
    }
   ],
   "source": [
    "volume = calculate_volume(2, 3, 10)\n",
    "print(volume, type(volume))"
   ]
  },
  {
   "cell_type": "code",
   "execution_count": 9,
   "metadata": {},
   "outputs": [
    {
     "name": "stdout",
     "output_type": "stream",
     "text": [
      "60\n",
      "60 None\n"
     ]
    }
   ],
   "source": [
    "volume_1 = calculate_volume(2, 3, 10)\n",
    "volume_2 = print_volume(2, 3, 10)\n",
    "\n",
    "print(volume_1, volume_2)"
   ]
  },
  {
   "cell_type": "code",
   "execution_count": 10,
   "metadata": {},
   "outputs": [
    {
     "name": "stdout",
     "output_type": "stream",
     "text": [
      "Hello world!\n"
     ]
    }
   ],
   "source": [
    "print(\"Hello world!\")"
   ]
  },
  {
   "cell_type": "code",
   "execution_count": 11,
   "metadata": {},
   "outputs": [
    {
     "data": {
      "text/plain": [
       "'from h8: Hello world!'"
      ]
     },
     "execution_count": 11,
     "metadata": {},
     "output_type": "execute_result"
    }
   ],
   "source": [
    "new_print(\"Hello world!\")"
   ]
  },
  {
   "cell_type": "code",
   "execution_count": 12,
   "metadata": {},
   "outputs": [
    {
     "data": {
      "text/plain": [
       "'from me: Hi, all!'"
      ]
     },
     "execution_count": 12,
     "metadata": {},
     "output_type": "execute_result"
    }
   ],
   "source": [
    "new_print(\"Hi, all!\", \"from me: \")"
   ]
  },
  {
   "cell_type": "code",
   "execution_count": 13,
   "metadata": {},
   "outputs": [
    {
     "data": {
      "text/plain": [
       "'Hi, all!from me: '"
      ]
     },
     "execution_count": 13,
     "metadata": {},
     "output_type": "execute_result"
    }
   ],
   "source": [
    "new_print(\"from me: \", \"Hi, all!\")"
   ]
  },
  {
   "cell_type": "code",
   "execution_count": 14,
   "metadata": {},
   "outputs": [
    {
     "data": {
      "text/plain": [
       "'from h8: Hello, world!'"
      ]
     },
     "execution_count": 14,
     "metadata": {},
     "output_type": "execute_result"
    }
   ],
   "source": [
    "new_print(obj=\"Hello, world!\")"
   ]
  },
  {
   "cell_type": "code",
   "execution_count": 15,
   "metadata": {},
   "outputs": [
    {
     "data": {
      "text/plain": [
       "{1: 'john', 2: 'star', 3: 'lucifer', 4: 'python'}"
      ]
     },
     "execution_count": 15,
     "metadata": {},
     "output_type": "execute_result"
    }
   ],
   "source": [
    "list_names = [\"john\", \"star\", \"lucifer\", \"python\"]\n",
    "make_students(list_names)"
   ]
  },
  {
   "cell_type": "code",
   "execution_count": 16,
   "metadata": {},
   "outputs": [
    {
     "data": {
      "text/plain": [
       "{1: 'adit', 2: 'bagus', 3: 'daniel', 4: 'dezenia', 5: 'ilham'}"
      ]
     },
     "execution_count": 16,
     "metadata": {},
     "output_type": "execute_result"
    }
   ],
   "source": [
    "make_students([\"adit\", \"bagus\", \"daniel\", \"dezenia\", \"ilham\"])"
   ]
  },
  {
   "cell_type": "code",
   "execution_count": 17,
   "metadata": {},
   "outputs": [],
   "source": [
    "num_cats = 10\n",
    "\n",
    "\n",
    "def count_animals():\n",
    "    num_dogs = 5\n",
    "    return num_cats + num_dogs\n",
    "\n",
    "\n",
    "def count_cats():\n",
    "    return 2 * num_cats"
   ]
  },
  {
   "cell_type": "code",
   "execution_count": 18,
   "metadata": {},
   "outputs": [
    {
     "name": "stdout",
     "output_type": "stream",
     "text": [
      "count of animals: 15\n",
      "count of cats: 20\n"
     ]
    }
   ],
   "source": [
    "animals = count_animals()\n",
    "cats = count_cats()\n",
    "\n",
    "print(\"count of animals:\", animals)\n",
    "print(\"count of cats:\", cats)"
   ]
  },
  {
   "cell_type": "code",
   "execution_count": 19,
   "metadata": {},
   "outputs": [],
   "source": [
    "def count_all_animals():\n",
    "    num_dogs = 10\n",
    "    num_cats = 100\n",
    "    return num_dogs + num_cats"
   ]
  },
  {
   "cell_type": "code",
   "execution_count": 20,
   "metadata": {},
   "outputs": [
    {
     "name": "stdout",
     "output_type": "stream",
     "text": [
      "110\n"
     ]
    }
   ],
   "source": [
    "all_animals = count_all_animals()\n",
    "print(all_animals)"
   ]
  },
  {
   "cell_type": "code",
   "execution_count": 21,
   "metadata": {},
   "outputs": [
    {
     "name": "stdout",
     "output_type": "stream",
     "text": [
      "10\n"
     ]
    }
   ],
   "source": [
    "print(num_cats)"
   ]
  },
  {
   "cell_type": "code",
   "execution_count": 22,
   "metadata": {},
   "outputs": [
    {
     "data": {
      "text/plain": [
       "15"
      ]
     },
     "execution_count": 22,
     "metadata": {},
     "output_type": "execute_result"
    }
   ],
   "source": [
    "count_animals()"
   ]
  },
  {
   "cell_type": "code",
   "execution_count": 23,
   "metadata": {},
   "outputs": [
    {
     "data": {
      "text/plain": [
       "{1: 'john', 2: 'star', 3: 'lucifer', 4: 'python'}"
      ]
     },
     "execution_count": 23,
     "metadata": {},
     "output_type": "execute_result"
    }
   ],
   "source": [
    "students.make_students(list_names)"
   ]
  },
  {
   "cell_type": "code",
   "execution_count": 24,
   "metadata": {},
   "outputs": [
    {
     "data": {
      "text/plain": [
       "{1: 'adit', 2: 'bagus', 3: 'daniel', 4: 'dezenia', 5: 'ilham'}"
      ]
     },
     "execution_count": 24,
     "metadata": {},
     "output_type": "execute_result"
    }
   ],
   "source": [
    "students.make_students([\"adit\", \"bagus\", \"daniel\", \"dezenia\", \"ilham\"])"
   ]
  },
  {
   "cell_type": "code",
   "execution_count": 25,
   "metadata": {},
   "outputs": [
    {
     "data": {
      "text/plain": [
       "'hacktiv8'"
      ]
     },
     "execution_count": 25,
     "metadata": {},
     "output_type": "execute_result"
    }
   ],
   "source": [
    "students.bootcamp_name"
   ]
  },
  {
   "cell_type": "code",
   "execution_count": 26,
   "metadata": {},
   "outputs": [
    {
     "data": {
      "text/plain": [
       "{1: 'yusuf', 2: 'satya', 3: 'richard', 4: 'stefani', 5: 'timotius'}"
      ]
     },
     "execution_count": 26,
     "metadata": {},
     "output_type": "execute_result"
    }
   ],
   "source": [
    "students.id_to_students"
   ]
  },
  {
   "cell_type": "code",
   "execution_count": 27,
   "metadata": {},
   "outputs": [
    {
     "data": {
      "text/plain": [
       "<function hacktivate.students.make_students(names)>"
      ]
     },
     "execution_count": 27,
     "metadata": {},
     "output_type": "execute_result"
    }
   ],
   "source": [
    "students.make_students"
   ]
  },
  {
   "cell_type": "code",
   "execution_count": 28,
   "metadata": {},
   "outputs": [
    {
     "data": {
      "text/plain": [
       "{1: 'adit', 2: 'bagus', 3: 'daniel', 4: 'dezenia', 5: 'ilham'}"
      ]
     },
     "execution_count": 28,
     "metadata": {},
     "output_type": "execute_result"
    }
   ],
   "source": [
    "make_students([\"adit\", \"bagus\", \"daniel\", \"dezenia\", \"ilham\"])"
   ]
  },
  {
   "cell_type": "code",
   "execution_count": 29,
   "metadata": {},
   "outputs": [
    {
     "data": {
      "text/plain": [
       "'hacktiv8'"
      ]
     },
     "execution_count": 29,
     "metadata": {},
     "output_type": "execute_result"
    }
   ],
   "source": [
    "students.bootcamp_name"
   ]
  },
  {
   "cell_type": "code",
   "execution_count": 30,
   "metadata": {},
   "outputs": [
    {
     "ename": "NameError",
     "evalue": "name 'bootcamp_name' is not defined",
     "output_type": "error",
     "traceback": [
      "\u001b[0;31m---------------------------------------------------------------------------\u001b[0m",
      "\u001b[0;31mNameError\u001b[0m                                 Traceback (most recent call last)",
      "\u001b[0;32m<ipython-input-30-512c5fd64825>\u001b[0m in \u001b[0;36m<module>\u001b[0;34m\u001b[0m\n\u001b[0;32m----> 1\u001b[0;31m \u001b[0mbootcamp_name\u001b[0m\u001b[0;34m\u001b[0m\u001b[0;34m\u001b[0m\u001b[0m\n\u001b[0m",
      "\u001b[0;31mNameError\u001b[0m: name 'bootcamp_name' is not defined"
     ]
    }
   ],
   "source": [
    "bootcamp_name"
   ]
  },
  {
   "cell_type": "code",
   "execution_count": 31,
   "metadata": {},
   "outputs": [],
   "source": [
    "bootcamp_name = \"hacktiv\""
   ]
  },
  {
   "cell_type": "code",
   "execution_count": 32,
   "metadata": {},
   "outputs": [
    {
     "name": "stdout",
     "output_type": "stream",
     "text": [
      "hacktiv\n"
     ]
    }
   ],
   "source": [
    "print(bootcamp_name)"
   ]
  },
  {
   "cell_type": "code",
   "execution_count": 33,
   "metadata": {},
   "outputs": [
    {
     "name": "stdout",
     "output_type": "stream",
     "text": [
      "hacktiv\n"
     ]
    }
   ],
   "source": [
    "print(bootcamp_name)"
   ]
  },
  {
   "cell_type": "code",
   "execution_count": 34,
   "metadata": {},
   "outputs": [
    {
     "name": "stdout",
     "output_type": "stream",
     "text": [
      "hacktiv8\n"
     ]
    }
   ],
   "source": [
    "print(bootcamp)"
   ]
  },
  {
   "cell_type": "code",
   "execution_count": 35,
   "metadata": {},
   "outputs": [
    {
     "name": "stdout",
     "output_type": "stream",
     "text": [
      "usage: hello.py [-h] yourname\r\n",
      "\r\n",
      "A welcome drink (read: script) for you.\r\n",
      "\r\n",
      "positional arguments:\r\n",
      "  yourname    write your name wrapped in a double-quotes\r\n",
      "\r\n",
      "optional arguments:\r\n",
      "  -h, --help  show this help message and exit\r\n"
     ]
    }
   ],
   "source": [
    "!python hello.py --help"
   ]
  },
  {
   "cell_type": "code",
   "execution_count": 36,
   "metadata": {},
   "outputs": [
    {
     "name": "stdout",
     "output_type": "stream",
     "text": [
      "Hello, Michael Jackson! Congratulations for starting your journey in data science.\r\n",
      "My name is Syahrul Bahar Hamdani, but just call me Dani for short.\r\n",
      "Together for the next few weeks, we will learn a lot.\r\n",
      "From learning how to code with Python, to using Python to solve data science problem.\r\n",
      "Let's get started!!\r\n"
     ]
    }
   ],
   "source": [
    "!python hello.py \"Michael Jackson\""
   ]
  },
  {
   "cell_type": "code",
   "execution_count": 37,
   "metadata": {},
   "outputs": [
    {
     "name": "stdout",
     "output_type": "stream",
     "text": [
      "Hello, Adit! Congratulations for starting your journey in data science.\r\n",
      "My name is Syahrul Bahar Hamdani, but just call me Dani for short.\r\n",
      "Together for the next few weeks, we will learn a lot.\r\n",
      "From learning how to code with Python, to using Python to solve data science problem.\r\n",
      "Let's get started!!\r\n"
     ]
    }
   ],
   "source": [
    "!python hello.py Adit"
   ]
  },
  {
   "cell_type": "code",
   "execution_count": 38,
   "metadata": {},
   "outputs": [
    {
     "name": "stdout",
     "output_type": "stream",
     "text": [
      "bootcamp name: hacktiv8\r\n",
      "list names: ['john', 'star', 'lucifer', 'python']\r\n",
      "list of students with id:\r\n",
      "{1: 'john', 2: 'star', 3: 'lucifer', 4: 'python'}\r\n"
     ]
    }
   ],
   "source": [
    "!python students.py"
   ]
  }
 ],
 "metadata": {
  "kernelspec": {
   "display_name": "Python 3",
   "language": "python",
   "name": "python3"
  },
  "language_info": {
   "codemirror_mode": {
    "name": "ipython",
    "version": 3
   },
   "file_extension": ".py",
   "mimetype": "text/x-python",
   "name": "python",
   "nbconvert_exporter": "python",
   "pygments_lexer": "ipython3",
   "version": "3.8.5"
  }
 },
 "nbformat": 4,
 "nbformat_minor": 4
}
